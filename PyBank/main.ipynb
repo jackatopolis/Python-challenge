{
 "cells": [
  {
   "cell_type": "code",
   "execution_count": 24,
   "metadata": {},
   "outputs": [],
   "source": [
    "# Import dependencies\n",
    "import os\n",
    "import csv"
   ]
  },
  {
   "cell_type": "code",
   "execution_count": 28,
   "metadata": {},
   "outputs": [
    {
     "name": "stdout",
     "output_type": "stream",
     "text": [
      "FINANCIAL ANALYSIS\n",
      "By: Jack Cohen\n",
      "------------------------\n",
      "Total Months: 86\n",
      "Total: $38382578\n",
      "Average Change: $446309.05\n",
      "Greatest Increase in Profits: Feb-2012 ($1170593)\n",
      "Greatest Decrease in Profits: Sep-2013 ($-1196225)\n"
     ]
    }
   ],
   "source": [
    "# Read and open the budget data csv file\n",
    "file_path = 'Resources/budget_data.csv'\n",
    "budget_csv = os.path.join(file_path)\n",
    "\n",
    "with open(budget_csv) as csvfile:\n",
    "    csv_reader = csv.reader(csvfile, delimiter=\",\")    \n",
    "    csv_header = next(csv_reader)\n",
    "    \n",
    "    # Initialize variables\n",
    "    num_months = 0\n",
    "    total = 0\n",
    "    profit_loss = []\n",
    "    great_inc_val = 0\n",
    "    great_inc_date = []\n",
    "    great_dec_val = 0\n",
    "    great_dec_date = []\n",
    "    \n",
    "    # Loop through all rows in the budget data\n",
    "    for row in csv_reader:\n",
    "        num_months = num_months+1 # counting months\n",
    "        date = row[0]\n",
    "        PL_val = int(row[1]) # extract profit/loss value\n",
    "        total = total + PL_val # sum profit/loss\n",
    "        if PL_val > great_inc_val:\n",
    "            great_inc_val = PL_val\n",
    "            great_inc_date = date\n",
    "        elif PL_val < great_dec_val:\n",
    "            great_dec_val = PL_val\n",
    "            great_dec_date = date\n",
    "        else: continue\n",
    "    PL_avg = round(total/num_months,2)\n",
    "                           \n",
    "    # Print out results\n",
    "    print(\"FINANCIAL ANALYSIS\")\n",
    "    print(\"By: Jack Cohen\")\n",
    "    print(\"------------------------\")\n",
    "    print(f\"Total Months: {num_months}\")\n",
    "    print(f\"Total: ${total}\")\n",
    "    print(f\"Average Change: ${PL_avg}\")\n",
    "    print(f\"Greatest Increase in Profits: {great_inc_date} (${great_inc_val})\")\n",
    "    print(f\"Greatest Decrease in Profits: {great_dec_date} (${great_dec_val})\")"
   ]
  },
  {
   "cell_type": "code",
   "execution_count": 29,
   "metadata": {},
   "outputs": [],
   "source": [
    "# Output results and analysis to .txt file\n",
    "file1 = open(\"Analysis/Financial_Analysis.txt\",\"w\")\n",
    "L = [\"FINANCIAL ANALYSIS \\n\",\n",
    "     \"By: Jack Cohen \\n\",\n",
    "     \"------------------------\\n\",\n",
    "     f\"Total Months: {num_months}\\n\",\n",
    "     f\"Total: ${total} \\n\",\n",
    "     f\"Average Change: ${PL_avg} \\n\",\n",
    "     f\"Greatest Increase in Profits: {great_inc_date} (${great_inc_val}) \\n\",\n",
    "     f\"Greatest Decrease in Profits: {great_dec_date} (${great_dec_val}) \\n\"]\n",
    "file1.writelines(L)\n",
    "file1.close()"
   ]
  },
  {
   "cell_type": "code",
   "execution_count": null,
   "metadata": {},
   "outputs": [],
   "source": []
  }
 ],
 "metadata": {
  "kernelspec": {
   "display_name": "Python 3",
   "language": "python",
   "name": "python3"
  },
  "language_info": {
   "codemirror_mode": {
    "name": "ipython",
    "version": 3
   },
   "file_extension": ".py",
   "mimetype": "text/x-python",
   "name": "python",
   "nbconvert_exporter": "python",
   "pygments_lexer": "ipython3",
   "version": "3.7.6"
  }
 },
 "nbformat": 4,
 "nbformat_minor": 4
}
