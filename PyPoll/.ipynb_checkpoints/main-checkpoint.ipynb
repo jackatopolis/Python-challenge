{
 "cells": [
  {
   "cell_type": "code",
   "execution_count": 129,
   "metadata": {},
   "outputs": [],
   "source": [
    "# Import Dependencies\n",
    "import os\n",
    "import csv"
   ]
  },
  {
   "cell_type": "code",
   "execution_count": 135,
   "metadata": {},
   "outputs": [
    {
     "name": "stdout",
     "output_type": "stream",
     "text": [
      "ELECTION RESULTS\n",
      "By: Jack Cohen\n",
      "------------------------\n",
      "Total Votes: 3521001\n",
      "------------------------\n",
      "Khan: 63.0% (2218231)\n",
      "Correy: 20.0% (704200)\n",
      "Li: 14.0% (492940)\n",
      "O'Tooley: 3.0% (105630)\n",
      "------------------------\n",
      "Winner: Khan\n",
      "------------------------\n"
     ]
    }
   ],
   "source": [
    "# Read and open the budget data csv file\n",
    "file_path = 'Resources/election_data.csv'\n",
    "election_csv = os.path.join(file_path)\n",
    "votes = []\n",
    "winner_votes = 0\n",
    "\n",
    "# Creating dictionary class\n",
    "class voter_information(dict):\n",
    "    def __init__(self):\n",
    "        self = dict()\n",
    "    def add(self, key, value):\n",
    "        self[key]=value\n",
    "        \n",
    "# Open election data\n",
    "with open(election_csv) as csvfile:\n",
    "    csv_reader = csv.reader(csvfile, delimiter=\",\")    \n",
    "    csv_header = next(csv_reader)\n",
    "    \n",
    "    # Initialize variables\n",
    "    num_vote = 0\n",
    "    votes_list = []\n",
    "    candidates = []\n",
    "    \n",
    "    # Loop trought all rows in the election data\n",
    "    for row in csv_reader:\n",
    "        num_vote = num_vote+1 # counting votes\n",
    "        candidate = row[2] # extract candidate\n",
    "        votes.append(candidate)\n",
    "        \n",
    "        # Collect candidate names\n",
    "        if candidate not in candidates:\n",
    "            candidates.append(candidate)\n",
    "\n",
    "# Start voter function from class\n",
    "vote_func = voter_information()\n",
    "\n",
    "print(\"ELECTION RESULTS\\n\"\n",
    "      \"By: Jack Cohen\\n\"\n",
    "     \"------------------------\\n\"\n",
    "     f\"Total Votes: {num_vote}\\n\"\n",
    "     \"------------------------\")\n",
    "\n",
    "# Loop through all votes to tally candidate totals and percents\n",
    "for x in candidates:\n",
    "    vote_func.add(x,{\"Votes\":votes.count(x),\"Percent\":round(100*(votes.count(x)/num_vote),3)})\n",
    "\n",
    "# Loop through candidates to print results and find winner\n",
    "for key in list(vote_func.keys()):\n",
    "    print(f\"{key}: {vote_func[key]['Percent']}% ({vote_func[key]['Votes']})\")\n",
    "    if vote_func[key][\"Votes\"] > winner_votes:\n",
    "        winner_votes = vote_func[key][\"Votes\"]\n",
    "        winner = key\n",
    "print(\"------------------------\\n\"\n",
    "      f\"Winner: {winner}\\n\"\n",
    "     \"------------------------\")"
   ]
  },
  {
   "cell_type": "code",
   "execution_count": 136,
   "metadata": {},
   "outputs": [],
   "source": [
    "# Output results and analysis to .txt file\n",
    "file1 = open(\"Analysis/Election_Results.txt\",\"w\")\n",
    "file1.write((\"ELECTION RESULTS\\n\"\n",
    "      \"By: Jack Cohen\\n\"\n",
    "     \"------------------------\\n\"\n",
    "     f\"Total Votes: {num_vote}\\n\"\n",
    "     \"------------------------\\n\"))\n",
    "for key in list(vote_func.keys()):\n",
    "    file1.write(f\"{key}: {vote_func[key]['Percent']}% ({vote_func[key]['Votes']})\\n\")\n",
    "file1.write(\"------------------------\\n\"\n",
    "      f\"Winner: {winner}\\n\"\n",
    "        \"------------------------\\n\")\n",
    "file1.close()"
   ]
  },
  {
   "cell_type": "code",
   "execution_count": null,
   "metadata": {},
   "outputs": [],
   "source": []
  }
 ],
 "metadata": {
  "kernelspec": {
   "display_name": "Python 3",
   "language": "python",
   "name": "python3"
  },
  "language_info": {
   "codemirror_mode": {
    "name": "ipython",
    "version": 3
   },
   "file_extension": ".py",
   "mimetype": "text/x-python",
   "name": "python",
   "nbconvert_exporter": "python",
   "pygments_lexer": "ipython3",
   "version": "3.7.6"
  }
 },
 "nbformat": 4,
 "nbformat_minor": 4
}
